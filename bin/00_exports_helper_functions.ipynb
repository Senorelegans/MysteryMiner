{
 "cells": [
  {
   "cell_type": "code",
   "execution_count": 1,
   "metadata": {
    "ExecuteTime": {
     "end_time": "2019-08-12T16:15:25.042715Z",
     "start_time": "2019-08-12T16:15:14.947242Z"
    }
   },
   "outputs": [],
   "source": [
    "#export\n",
    "from pathlib import Path\n",
    "import json,fire,re\n",
    "import pandas as pd\n",
    "import numpy as np\n",
    "import pickle, gzip, math\n",
    "import matplotlib as mpl\n",
    "import matplotlib.pyplot as plt\n",
    "import sys\n",
    "import csv\n",
    "import os\n",
    "from timeit import default_timer as timer\n",
    "import operator\n",
    "import argparse\n",
    "import subprocess\n",
    "import glob\n",
    "import time"
   ]
  },
  {
   "cell_type": "code",
   "execution_count": 2,
   "metadata": {
    "ExecuteTime": {
     "end_time": "2019-08-12T16:15:25.047355Z",
     "start_time": "2019-08-12T16:15:25.044866Z"
    }
   },
   "outputs": [],
   "source": [
    "#export\n",
    "TEST = 'test'"
   ]
  },
  {
   "cell_type": "code",
   "execution_count": 3,
   "metadata": {
    "ExecuteTime": {
     "end_time": "2019-08-12T16:15:25.057154Z",
     "start_time": "2019-08-12T16:15:25.049512Z"
    }
   },
   "outputs": [],
   "source": [
    "#export\n",
    "def test(a,b,cmp,cname=None):\n",
    "    if cname is None: cname=cmp.__name__\n",
    "    assert cmp(a,b),f'{cname}:\\n{a}\\n{b}'\n",
    "\n",
    "def test_eq(a,b): test(a,b,operator.eq,'==')\n",
    "    \n",
    "    \n",
    "def makeFolders(folder_list):\n",
    "    for directory in folder_list:\n",
    "        if not directory: # Make sure not an empty string \"\"\n",
    "            continue\n",
    "        else:\n",
    "            if not os.path.exists(directory):\n",
    "                os.makedirs(directory)\n",
    "\n",
    "def removeFile(filename):\n",
    "    try:\n",
    "        os.remove(filename)\n",
    "    except OSError:\n",
    "        pass   \n",
    "    \n",
    "def removeAndZip(f):\n",
    "    f = Path(f)\n",
    "    z = f'{f}.gz'\n",
    "    try:\n",
    "        os.remove(z)       \n",
    "    except OSError:\n",
    "        pass  \n",
    "    subprocess.run(f\"gzip {f}\", shell=True)\n",
    "    \n",
    "    \n",
    "def fix_bool(s):\n",
    "    # Nextflow messes up the false flag\n",
    "    if (s == \"false\" or s== \"False\"):\n",
    "        s = False\n",
    "    if (s == \"true\" or s == \"True\"):\n",
    "        s = True\n",
    "    return s"
   ]
  },
  {
   "cell_type": "code",
   "execution_count": 4,
   "metadata": {
    "ExecuteTime": {
     "end_time": "2019-08-12T16:15:25.062875Z",
     "start_time": "2019-08-12T16:15:25.058683Z"
    }
   },
   "outputs": [],
   "source": [
    "s = fix_bool(s=\"False\")\n"
   ]
  },
  {
   "cell_type": "code",
   "execution_count": 5,
   "metadata": {
    "ExecuteTime": {
     "end_time": "2019-08-12T16:15:27.367688Z",
     "start_time": "2019-08-12T16:15:25.064686Z"
    }
   },
   "outputs": [
    {
     "name": "stdout",
     "output_type": "stream",
     "text": [
      "Converted 00_exports_helper_functions.ipynb to nb_00.py\r\n"
     ]
    }
   ],
   "source": [
    "!python notebook2script.py 00_exports_helper_functions.ipynb"
   ]
  },
  {
   "cell_type": "code",
   "execution_count": 10,
   "metadata": {
    "ExecuteTime": {
     "end_time": "2019-07-29T16:22:58.228051Z",
     "start_time": "2019-07-29T16:22:58.222131Z"
    }
   },
   "outputs": [
    {
     "name": "stdout",
     "output_type": "stream",
     "text": [
      "yo\n",
      "Not empty string\n",
      "Doesnt exist\n",
      "cheese\n",
      "Not empty string\n",
      "Doesnt exist\n",
      "\n"
     ]
    }
   ],
   "source": [
    "\n",
    "\n"
   ]
  },
  {
   "cell_type": "code",
   "execution_count": null,
   "metadata": {},
   "outputs": [],
   "source": [
    "makeFolders([\"yo\",\"cheese\",\"\"])"
   ]
  }
 ],
 "metadata": {
  "kernelspec": {
   "display_name": "Python 3",
   "language": "python",
   "name": "python3"
  },
  "language_info": {
   "codemirror_mode": {
    "name": "ipython",
    "version": 3
   },
   "file_extension": ".py",
   "mimetype": "text/x-python",
   "name": "python",
   "nbconvert_exporter": "python",
   "pygments_lexer": "ipython3",
   "version": "3.7.3"
  },
  "toc": {
   "base_numbering": 1,
   "nav_menu": {},
   "number_sections": true,
   "sideBar": true,
   "skip_h1_title": false,
   "title_cell": "Table of Contents",
   "title_sidebar": "Contents",
   "toc_cell": false,
   "toc_position": {},
   "toc_section_display": true,
   "toc_window_display": false
  }
 },
 "nbformat": 4,
 "nbformat_minor": 2
}
