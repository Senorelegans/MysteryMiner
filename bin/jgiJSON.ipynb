{
 "cells": [
  {
   "cell_type": "code",
   "execution_count": 1,
   "metadata": {
    "ExecuteTime": {
     "end_time": "2020-01-20T18:18:18.509863Z",
     "start_time": "2020-01-20T18:18:16.665212Z"
    }
   },
   "outputs": [],
   "source": [
    "#export\n",
    "import json\n",
    "import sys\n",
    "import os\n",
    "import os.path\n",
    "from pathlib import Path\n",
    "from subprocess import call\n",
    "import sys # system libraries, like arguments (argv)\n",
    "import re # regular expressions\n",
    "import pandas as pd\n",
    "\n",
    "\n",
    "from timeit import default_timer as timer\n",
    "import time\n"
   ]
  },
  {
   "cell_type": "code",
   "execution_count": 2,
   "metadata": {
    "ExecuteTime": {
     "end_time": "2020-01-20T18:18:18.516665Z",
     "start_time": "2020-01-20T18:18:18.512228Z"
    }
   },
   "outputs": [],
   "source": [
    "#Input files\n",
    "p = \"/Users/m/Google_Drive/Scripts/2019/biome/biome_shared/nextflow/RNAseq-Biome-Nextflow/bin/test/jgi_test/\"\n",
    "f1=p+\"test.tsv\"\n",
    "fasta=p+\"transcripts.fasta\"\n",
    "\n",
    "\n",
    "f = os.path.basename(f1)\n",
    "fout = f[:-4]\n",
    "#NODE_1_length_6153_cov_459.385_g0_i0\tgi|18497249|gb|AC104623.4|\t98.953\t0.0\t9606\tN/A\tN/A\tN/A\tHomo sapiens BAC clone RP11-542H15 from 2, complete sequence\n"
   ]
  },
  {
   "cell_type": "markdown",
   "metadata": {},
   "source": [
    "### Remove human taxid number before jgi call"
   ]
  },
  {
   "cell_type": "code",
   "execution_count": 3,
   "metadata": {
    "ExecuteTime": {
     "end_time": "2020-01-20T18:18:19.698636Z",
     "start_time": "2020-01-20T18:18:19.690317Z"
    }
   },
   "outputs": [],
   "source": [
    "#export\n",
    "def removeHuman(f1,fout):\n",
    "    my_cols=[\n",
    "    \"contig\",\n",
    "    \"blast_pident\",\n",
    "    \"blast_sseqid\",\n",
    "    \"blast_evalue\",\n",
    "    \"taxid\",\n",
    "    \"blast_sscinames\",\n",
    "    \"blast_scomnames\",\n",
    "    \"blast_sskingdoms\",\n",
    "    \"blast_stitle\"\n",
    "    ]\n",
    "    df=pd.read_csv(f1, dtype={\n",
    "                            \"contig\":str,\n",
    "                            \"blast_pident\":str,\n",
    "                            \"blast_sseqid\":str,\n",
    "                            \"blast_evalue\":str,\n",
    "                            \"taxid\":str,\n",
    "                            \"blast_sscinames\":str,\n",
    "                            \"blast_scomnames\":str,\n",
    "                            \"blast_sskingdoms\":str,\n",
    "                            \"blast_stitle\":str\n",
    "                            }, sep='\\t', names=my_cols)\n",
    "\n",
    "    del df[\"blast_sscinames\"]\n",
    "    del df[\"blast_scomnames\"]\n",
    "    del df[\"blast_sskingdoms\"]\n",
    "    df[\"filename\"] = fout\n",
    "    \n",
    "    df['contig'] = df.drop_duplicates(subset=['contig'], keep=\"first\")\n",
    "    df.to_csv(f'{fout}_initial_contigs.txt',index=None,sep=\"\\t\")\n",
    "\n",
    "    \n",
    "    def getDiff(taxid,df):\n",
    "        df2 = df[df[\"taxid\"]== taxid]\n",
    "        df2.to_csv(f'{fout}_{taxid}.txt',index=None,sep=\"\\t\")\n",
    "        df = df[df[\"taxid\"]!= taxid]\n",
    "        return df\n",
    "    \n",
    "    df = getDiff(taxid=\"9606\",df=df) # Remove human\n",
    "    df = getDiff(taxid=\"10090\",df=df) # Remove mouse\n",
    "    return df"
   ]
  },
  {
   "cell_type": "code",
   "execution_count": 22,
   "metadata": {
    "ExecuteTime": {
     "end_time": "2019-12-18T02:40:08.870782Z",
     "start_time": "2019-12-18T02:40:08.841342Z"
    },
    "collapsed": true
   },
   "outputs": [
    {
     "data": {
      "text/html": [
       "<div>\n",
       "<style scoped>\n",
       "    .dataframe tbody tr th:only-of-type {\n",
       "        vertical-align: middle;\n",
       "    }\n",
       "\n",
       "    .dataframe tbody tr th {\n",
       "        vertical-align: top;\n",
       "    }\n",
       "\n",
       "    .dataframe thead th {\n",
       "        text-align: right;\n",
       "    }\n",
       "</style>\n",
       "<table border=\"1\" class=\"dataframe\">\n",
       "  <thead>\n",
       "    <tr style=\"text-align: right;\">\n",
       "      <th></th>\n",
       "      <th>contig</th>\n",
       "      <th>blast_pident</th>\n",
       "      <th>blast_sseqid</th>\n",
       "      <th>blast_evalue</th>\n",
       "      <th>taxid</th>\n",
       "      <th>blast_stitle</th>\n",
       "      <th>filename</th>\n",
       "    </tr>\n",
       "  </thead>\n",
       "  <tbody>\n",
       "    <tr>\n",
       "      <th>0</th>\n",
       "      <td>NODE_1_length_617_cov_20.523132_g0_i0</td>\n",
       "      <td>gi|694943029|ref|XM_508242.4|</td>\n",
       "      <td>99.514</td>\n",
       "      <td>0.0</td>\n",
       "      <td>9598</td>\n",
       "      <td>PREDICTED: Pan troglodytes hemoglobin subunit ...</td>\n",
       "      <td>test</td>\n",
       "    </tr>\n",
       "    <tr>\n",
       "      <th>3</th>\n",
       "      <td>NODE_4_length_507_cov_6.066372_g3_i0</td>\n",
       "      <td>gi|690911020|emb|LN418807.1|</td>\n",
       "      <td>92.669</td>\n",
       "      <td>0.0</td>\n",
       "      <td>99802</td>\n",
       "      <td>Spirometra erinaceieuropaei genome assembly S_...</td>\n",
       "      <td>test</td>\n",
       "    </tr>\n",
       "    <tr>\n",
       "      <th>4</th>\n",
       "      <td>NODE_5_length_479_cov_9.966981_g4_i0</td>\n",
       "      <td>gi|1621881971|ref|XR_003713549.1|</td>\n",
       "      <td>100.000</td>\n",
       "      <td>0.0</td>\n",
       "      <td>491861</td>\n",
       "      <td>PREDICTED: Grammomys surdaster 28S ribosomal R...</td>\n",
       "      <td>test</td>\n",
       "    </tr>\n",
       "    <tr>\n",
       "      <th>6</th>\n",
       "      <td>NODE_7_length_392_cov_4.225519_g6_i0</td>\n",
       "      <td>gi|1021673813|gb|KX061890.1|</td>\n",
       "      <td>100.000</td>\n",
       "      <td>0.0</td>\n",
       "      <td>9544</td>\n",
       "      <td>Macaca mulatta precursor 48S ribosomal RNA, 18...</td>\n",
       "      <td>test</td>\n",
       "    </tr>\n",
       "    <tr>\n",
       "      <th>8</th>\n",
       "      <td>NODE_10_length_323_cov_2.470149_g9_i0</td>\n",
       "      <td>gi|1622917165|ref|XR_003725683.1|</td>\n",
       "      <td>99.670</td>\n",
       "      <td>5.30e-154</td>\n",
       "      <td>9544</td>\n",
       "      <td>PREDICTED: Macaca mulatta 28S ribosomal RNA (L...</td>\n",
       "      <td>test</td>\n",
       "    </tr>\n",
       "  </tbody>\n",
       "</table>\n",
       "</div>"
      ],
      "text/plain": [
       "                                  contig                       blast_pident  \\\n",
       "0  NODE_1_length_617_cov_20.523132_g0_i0      gi|694943029|ref|XM_508242.4|   \n",
       "3   NODE_4_length_507_cov_6.066372_g3_i0       gi|690911020|emb|LN418807.1|   \n",
       "4   NODE_5_length_479_cov_9.966981_g4_i0  gi|1621881971|ref|XR_003713549.1|   \n",
       "6   NODE_7_length_392_cov_4.225519_g6_i0       gi|1021673813|gb|KX061890.1|   \n",
       "8  NODE_10_length_323_cov_2.470149_g9_i0  gi|1622917165|ref|XR_003725683.1|   \n",
       "\n",
       "  blast_sseqid blast_evalue   taxid  \\\n",
       "0       99.514          0.0    9598   \n",
       "3       92.669          0.0   99802   \n",
       "4      100.000          0.0  491861   \n",
       "6      100.000          0.0    9544   \n",
       "8       99.670    5.30e-154    9544   \n",
       "\n",
       "                                        blast_stitle filename  \n",
       "0  PREDICTED: Pan troglodytes hemoglobin subunit ...     test  \n",
       "3  Spirometra erinaceieuropaei genome assembly S_...     test  \n",
       "4  PREDICTED: Grammomys surdaster 28S ribosomal R...     test  \n",
       "6  Macaca mulatta precursor 48S ribosomal RNA, 18...     test  \n",
       "8  PREDICTED: Macaca mulatta 28S ribosomal RNA (L...     test  "
      ]
     },
     "execution_count": 22,
     "metadata": {},
     "output_type": "execute_result"
    }
   ],
   "source": [
    "df = removeHuman(f1,fout)\n",
    "df.head()"
   ]
  },
  {
   "cell_type": "code",
   "execution_count": null,
   "metadata": {},
   "outputs": [],
   "source": [
    "\n",
    "\n"
   ]
  },
  {
   "cell_type": "markdown",
   "metadata": {},
   "source": [
    "### First pass through jgi to remove chordata and viridiplante\n"
   ]
  },
  {
   "cell_type": "code",
   "execution_count": 4,
   "metadata": {
    "ExecuteTime": {
     "end_time": "2020-01-20T18:18:21.047699Z",
     "start_time": "2020-01-20T18:18:21.036984Z"
    }
   },
   "outputs": [],
   "source": [
    "#export\n",
    "def firstJGIQuery(df,fout):\n",
    "    \n",
    "    taxids=df['taxid'].unique()\n",
    "    df_ids = pd.DataFrame(taxids) \n",
    "    df_ids = df_ids.rename(columns = {0:\"taxid\"})\n",
    "    \n",
    "    df_ids[\"jgi_tab\"] = \"NA\"\n",
    "    df_ids[\"jgi_json\"] = \"NA\"\n",
    "    i = 0\n",
    "    R = len(df_ids)\n",
    "    for x in range(R):\n",
    "        print(f'Querying {i+1} of {R} taxids')\n",
    "        ids = df_ids[\"taxid\"].iloc[x]\n",
    "        Q1 = \"curl https://taxonomy.jgi-psf.org/sc/id/\" + str(ids)\n",
    "        result = os.popen(Q1).read()\n",
    "        df_ids[\"jgi_tab\"].iloc[x] = result\n",
    "        \n",
    "        #Get json return\n",
    "        \n",
    "        jasonQ1 = \"curl https://taxonomy.jgi-psf.org/id/\" + str(ids)\n",
    "        result = os.popen(jasonQ1).read()\n",
    "        j = json.loads(result)\n",
    "        j = j[list(j.keys())[0]]\n",
    "        j = str(j)\n",
    "        df_ids[\"jgi_json\"].iloc[x] = j  \n",
    "        \n",
    "        i+= 1\n",
    "        \n",
    "        \n",
    "\n",
    "    df = pd.merge(df,df_ids,on=\"taxid\")\n",
    "    # To remove \"Chordata\",\"Viridiplantae\",\n",
    "    # Will remove at jgi json step \"synthetic\",\"artificial\",\"PREDICTED\"\n",
    "    df_chordata = df[df[\"jgi_tab\"].str.contains(\"Chordata\")==True]\n",
    "    df_virid = df[df[\"jgi_tab\"].str.contains(\"Viridiplantae\")==True]\n",
    "\n",
    "    df_chordata.to_csv(f'{fout}_Chordata.txt',sep=\"\\t\",index=None)\n",
    "    df_virid.to_csv(f'{fout}_Viridiplantae.txt',sep=\"\\t\",index=None)\n",
    "        \n",
    "    df_artificial = df[df[\"jgi_tab\"].str.contains(\"synth|vector|Vector|artificial\")==True]\n",
    "    df_artificial.to_csv(f'{fout}_Artificial.txt',sep=\"\\t\",index=None)\n",
    "    \n",
    "    df = df[df[\"jgi_tab\"].str.contains(\"Chordata|Viridiplantae\")==False]\n",
    "    df = df[df[\"jgi_tab\"].str.contains(\"synth|vector|Vector|artificial\")==False]\n",
    "        \n",
    "    return df\n"
   ]
  },
  {
   "cell_type": "code",
   "execution_count": 24,
   "metadata": {
    "ExecuteTime": {
     "end_time": "2019-12-18T02:40:20.925119Z",
     "start_time": "2019-12-18T02:40:16.632085Z"
    }
   },
   "outputs": [
    {
     "name": "stdout",
     "output_type": "stream",
     "text": [
      "Querying 1 of 7 taxids\n",
      "Querying 2 of 7 taxids\n",
      "Querying 3 of 7 taxids\n",
      "Querying 4 of 7 taxids\n",
      "Querying 5 of 7 taxids\n",
      "Querying 6 of 7 taxids\n",
      "Querying 7 of 7 taxids\n"
     ]
    },
    {
     "data": {
      "text/html": [
       "<div>\n",
       "<style scoped>\n",
       "    .dataframe tbody tr th:only-of-type {\n",
       "        vertical-align: middle;\n",
       "    }\n",
       "\n",
       "    .dataframe tbody tr th {\n",
       "        vertical-align: top;\n",
       "    }\n",
       "\n",
       "    .dataframe thead th {\n",
       "        text-align: right;\n",
       "    }\n",
       "</style>\n",
       "<table border=\"1\" class=\"dataframe\">\n",
       "  <thead>\n",
       "    <tr style=\"text-align: right;\">\n",
       "      <th></th>\n",
       "      <th>contig</th>\n",
       "      <th>blast_pident</th>\n",
       "      <th>blast_sseqid</th>\n",
       "      <th>blast_evalue</th>\n",
       "      <th>taxid</th>\n",
       "      <th>blast_stitle</th>\n",
       "      <th>filename</th>\n",
       "      <th>jgi_tab</th>\n",
       "      <th>jgi_json</th>\n",
       "    </tr>\n",
       "  </thead>\n",
       "  <tbody>\n",
       "    <tr>\n",
       "      <th>1</th>\n",
       "      <td>NODE_4_length_507_cov_6.066372_g3_i0</td>\n",
       "      <td>gi|690911020|emb|LN418807.1|</td>\n",
       "      <td>92.669</td>\n",
       "      <td>0.0</td>\n",
       "      <td>99802</td>\n",
       "      <td>Spirometra erinaceieuropaei genome assembly S_...</td>\n",
       "      <td>test</td>\n",
       "      <td>sk:Eukaryota;Opisthokonta;k:Metazoa;Eumetazoa;...</td>\n",
       "      <td>{'name': 'Spirometra erinaceieuropaei', 'tax_i...</td>\n",
       "    </tr>\n",
       "    <tr>\n",
       "      <th>7</th>\n",
       "      <td>NODE_24_length_242_cov_1.005348_g23_i0</td>\n",
       "      <td>gi|1248686583|gb|CP023560.1|</td>\n",
       "      <td>82.243</td>\n",
       "      <td>3.60e-15</td>\n",
       "      <td>1280</td>\n",
       "      <td>Staphylococcus aureus strain NMR08 chromosome</td>\n",
       "      <td>test</td>\n",
       "      <td>sk:Bacteria;Terrabacteria group;p:Firmicutes;c...</td>\n",
       "      <td>{'name': 'Staphylococcus aureus', 'tax_id': 12...</td>\n",
       "    </tr>\n",
       "  </tbody>\n",
       "</table>\n",
       "</div>"
      ],
      "text/plain": [
       "                                   contig                  blast_pident  \\\n",
       "1    NODE_4_length_507_cov_6.066372_g3_i0  gi|690911020|emb|LN418807.1|   \n",
       "7  NODE_24_length_242_cov_1.005348_g23_i0  gi|1248686583|gb|CP023560.1|   \n",
       "\n",
       "  blast_sseqid blast_evalue  taxid  \\\n",
       "1       92.669          0.0  99802   \n",
       "7       82.243     3.60e-15   1280   \n",
       "\n",
       "                                        blast_stitle filename  \\\n",
       "1  Spirometra erinaceieuropaei genome assembly S_...     test   \n",
       "7      Staphylococcus aureus strain NMR08 chromosome     test   \n",
       "\n",
       "                                             jgi_tab  \\\n",
       "1  sk:Eukaryota;Opisthokonta;k:Metazoa;Eumetazoa;...   \n",
       "7  sk:Bacteria;Terrabacteria group;p:Firmicutes;c...   \n",
       "\n",
       "                                            jgi_json  \n",
       "1  {'name': 'Spirometra erinaceieuropaei', 'tax_i...  \n",
       "7  {'name': 'Staphylococcus aureus', 'tax_id': 12...  "
      ]
     },
     "execution_count": 24,
     "metadata": {},
     "output_type": "execute_result"
    }
   ],
   "source": [
    "df = firstJGIQuery(df,fout)\n",
    "df.head()"
   ]
  },
  {
   "cell_type": "markdown",
   "metadata": {},
   "source": [
    "\n",
    "## Match fasta to tab"
   ]
  },
  {
   "cell_type": "markdown",
   "metadata": {},
   "source": [
    "### Write fasta to tabular output for easy matching"
   ]
  },
  {
   "cell_type": "code",
   "execution_count": 5,
   "metadata": {
    "ExecuteTime": {
     "end_time": "2020-01-20T18:18:23.435543Z",
     "start_time": "2020-01-20T18:18:23.424799Z"
    }
   },
   "outputs": [],
   "source": [
    "#export\n",
    "def matchFasta(df,fasta,fout):\n",
    "    c11 = fout+\"_newfasta1.fast\"\n",
    "    c12 = fout+\"_newfasta2.fast\"\n",
    "    with open(fasta,'r', newline=\"\\n\") as infile, open(c11, 'w') as outfile:\n",
    "        for line in infile:\n",
    "            if \">\" in line:\n",
    "                line = line.replace('\\n', '\\t')\n",
    "                line = line.replace('>', '\\n')\n",
    "                outfile.write(line)\n",
    "            else:\n",
    "                line = line.replace('\\n', 'RTN666')\n",
    "                outfile.write(line)\n",
    "        infile.close()\n",
    "        outfile.close()\n",
    "\n",
    "    with open(c11,'r', newline=\"\\n\") as infile, open(c12, 'w') as outfile:\n",
    "        for line in infile:\n",
    "            if \"NODE\" not in line:\n",
    "                line = line.replace('\\n', '')\n",
    "                line = line.replace('\\r', '')\n",
    "                outfile.write(line)\n",
    "            else:\n",
    "                outfile.write(line)\n",
    "        infile.close()\n",
    "        outfile.close()\n",
    "\n",
    "    my_cols=['contig', 'fasta_with_returnsAdded']\n",
    "    df_fa=pd.read_csv(c12, index_col=['contig'], sep='\\t', names=my_cols)\n",
    "    df = pd.merge(df, df_fa, on='contig') # Dont run this cell more than once\n",
    "    df[\"fasta\"] = df['fasta_with_returnsAdded'].str.replace(\"RTN666\",\"\")\n",
    "    df[\"length\"] = df[\"fasta\"].str.len()\n",
    "    df.to_csv(fout+\"_jgi_filtered_df.txt\",sep=\"\\t\",index=None)\n",
    "    \n",
    "    # Write out fasta\n",
    "    with open(fout+\"_jgi_filtered.fasta\",\"w\") as outfile:\n",
    "        for x in range(len(df)):\n",
    "            nodename = \">\"+df[\"contig\"].iloc[x]+\"\\n\"\n",
    "            fa = df['fasta_with_returnsAdded'].iloc[x]\n",
    "            fa = fa.replace('RTN666', '\\n')\n",
    "            outfile.write(nodename+fa)\n",
    "            \n",
    "    \n",
    "    return df\n"
   ]
  },
  {
   "cell_type": "code",
   "execution_count": null,
   "metadata": {},
   "outputs": [],
   "source": []
  },
  {
   "cell_type": "code",
   "execution_count": 26,
   "metadata": {
    "ExecuteTime": {
     "end_time": "2019-12-18T02:40:51.123842Z",
     "start_time": "2019-12-18T02:40:51.097631Z"
    }
   },
   "outputs": [
    {
     "data": {
      "text/html": [
       "<div>\n",
       "<style scoped>\n",
       "    .dataframe tbody tr th:only-of-type {\n",
       "        vertical-align: middle;\n",
       "    }\n",
       "\n",
       "    .dataframe tbody tr th {\n",
       "        vertical-align: top;\n",
       "    }\n",
       "\n",
       "    .dataframe thead th {\n",
       "        text-align: right;\n",
       "    }\n",
       "</style>\n",
       "<table border=\"1\" class=\"dataframe\">\n",
       "  <thead>\n",
       "    <tr style=\"text-align: right;\">\n",
       "      <th></th>\n",
       "      <th>contig</th>\n",
       "      <th>blast_pident</th>\n",
       "      <th>blast_sseqid</th>\n",
       "      <th>blast_evalue</th>\n",
       "      <th>taxid</th>\n",
       "      <th>blast_stitle</th>\n",
       "      <th>filename</th>\n",
       "      <th>jgi_tab</th>\n",
       "      <th>jgi_json</th>\n",
       "      <th>fasta_with_returnsAdded</th>\n",
       "      <th>fasta</th>\n",
       "      <th>length</th>\n",
       "    </tr>\n",
       "  </thead>\n",
       "  <tbody>\n",
       "    <tr>\n",
       "      <th>0</th>\n",
       "      <td>NODE_4_length_507_cov_6.066372_g3_i0</td>\n",
       "      <td>gi|690911020|emb|LN418807.1|</td>\n",
       "      <td>92.669</td>\n",
       "      <td>0.0</td>\n",
       "      <td>99802</td>\n",
       "      <td>Spirometra erinaceieuropaei genome assembly S_...</td>\n",
       "      <td>test</td>\n",
       "      <td>sk:Eukaryota;Opisthokonta;k:Metazoa;Eumetazoa;...</td>\n",
       "      <td>{'name': 'Spirometra erinaceieuropaei', 'tax_i...</td>\n",
       "      <td>ATGGAATGGATTGAACCCGAATGGAATGGAAAGGAATGGAATAAAC...</td>\n",
       "      <td>ATGGAATGGATTGAACCCGAATGGAATGGAAAGGAATGGAATAAAC...</td>\n",
       "      <td>507</td>\n",
       "    </tr>\n",
       "    <tr>\n",
       "      <th>1</th>\n",
       "      <td>NODE_24_length_242_cov_1.005348_g23_i0</td>\n",
       "      <td>gi|1248686583|gb|CP023560.1|</td>\n",
       "      <td>82.243</td>\n",
       "      <td>3.60e-15</td>\n",
       "      <td>1280</td>\n",
       "      <td>Staphylococcus aureus strain NMR08 chromosome</td>\n",
       "      <td>test</td>\n",
       "      <td>sk:Bacteria;Terrabacteria group;p:Firmicutes;c...</td>\n",
       "      <td>{'name': 'Staphylococcus aureus', 'tax_id': 12...</td>\n",
       "      <td>GGAGTGGAGTGGAATGGAGTGGAATGGAATGGAATGAGGTGGAATG...</td>\n",
       "      <td>GGAGTGGAGTGGAATGGAGTGGAATGGAATGGAATGAGGTGGAATG...</td>\n",
       "      <td>242</td>\n",
       "    </tr>\n",
       "  </tbody>\n",
       "</table>\n",
       "</div>"
      ],
      "text/plain": [
       "                                   contig                  blast_pident  \\\n",
       "0    NODE_4_length_507_cov_6.066372_g3_i0  gi|690911020|emb|LN418807.1|   \n",
       "1  NODE_24_length_242_cov_1.005348_g23_i0  gi|1248686583|gb|CP023560.1|   \n",
       "\n",
       "  blast_sseqid blast_evalue  taxid  \\\n",
       "0       92.669          0.0  99802   \n",
       "1       82.243     3.60e-15   1280   \n",
       "\n",
       "                                        blast_stitle filename  \\\n",
       "0  Spirometra erinaceieuropaei genome assembly S_...     test   \n",
       "1      Staphylococcus aureus strain NMR08 chromosome     test   \n",
       "\n",
       "                                             jgi_tab  \\\n",
       "0  sk:Eukaryota;Opisthokonta;k:Metazoa;Eumetazoa;...   \n",
       "1  sk:Bacteria;Terrabacteria group;p:Firmicutes;c...   \n",
       "\n",
       "                                            jgi_json  \\\n",
       "0  {'name': 'Spirometra erinaceieuropaei', 'tax_i...   \n",
       "1  {'name': 'Staphylococcus aureus', 'tax_id': 12...   \n",
       "\n",
       "                             fasta_with_returnsAdded  \\\n",
       "0  ATGGAATGGATTGAACCCGAATGGAATGGAAAGGAATGGAATAAAC...   \n",
       "1  GGAGTGGAGTGGAATGGAGTGGAATGGAATGGAATGAGGTGGAATG...   \n",
       "\n",
       "                                               fasta  length  \n",
       "0  ATGGAATGGATTGAACCCGAATGGAATGGAAAGGAATGGAATAAAC...     507  \n",
       "1  GGAGTGGAGTGGAATGGAGTGGAATGGAATGGAATGAGGTGGAATG...     242  "
      ]
     },
     "execution_count": 26,
     "metadata": {},
     "output_type": "execute_result"
    }
   ],
   "source": [
    "df2 = df.copy()\n",
    "df2 = matchFasta(df=df2,fasta=fasta,fout=fout)\n",
    "df2.head()"
   ]
  },
  {
   "cell_type": "code",
   "execution_count": 6,
   "metadata": {
    "ExecuteTime": {
     "end_time": "2020-01-20T18:18:25.979586Z",
     "start_time": "2020-01-20T18:18:25.974019Z"
    }
   },
   "outputs": [],
   "source": [
    "#export\n",
    "import ast\n",
    "\n",
    "def toJSON(df,fout):\n",
    "    df_J = df[[\"taxid\",\"jgi_json\"]]\n",
    "    del df[\"jgi_json\"]\n",
    "    \n",
    "    df.to_json(f\"{fout}_temp.json\",orient='index')\n",
    "    with open(f\"{fout}_temp.json\") as fo:\n",
    "        contig_d = json.load(fo)\n",
    "        for c in contig_d.keys():\n",
    "            d = contig_d[c] \n",
    "            taxid = d[\"taxid\"]  \n",
    "            df_temp = df_J[df_J[\"taxid\"]==taxid]\n",
    "            j = df_temp[\"jgi_json\"].iloc[0]\n",
    "            jdic = ast.literal_eval(j)\n",
    "            d[\"jgi_json\"] = jdic\n",
    "    \n",
    "        with open(f\"{fout}_jgi.json\", \"w\") as write_file:\n",
    "            json.dump(contig_d, write_file)\n",
    "    "
   ]
  },
  {
   "cell_type": "code",
   "execution_count": 29,
   "metadata": {
    "ExecuteTime": {
     "end_time": "2019-12-18T02:41:04.354163Z",
     "start_time": "2019-12-18T02:41:04.345554Z"
    }
   },
   "outputs": [],
   "source": [
    "df2 = df2.copy()\n",
    "\n",
    "toJSON(df=df2,fout=fout)"
   ]
  },
  {
   "cell_type": "code",
   "execution_count": 30,
   "metadata": {
    "ExecuteTime": {
     "end_time": "2019-12-18T02:41:06.828448Z",
     "start_time": "2019-12-18T02:41:06.823598Z"
    }
   },
   "outputs": [
    {
     "data": {
      "text/plain": [
       "'Platyhelminthes'"
      ]
     },
     "execution_count": 30,
     "metadata": {},
     "output_type": "execute_result"
    }
   ],
   "source": [
    "\n",
    "with open(f\"{fout}_jgi.json\") as fo:\n",
    "    contig_d = json.load(fo)\n",
    "\n",
    "contig_d\n",
    "contig_d[\"0\"][\"jgi_json\"][\"phylum\"][\"name\"]        "
   ]
  },
  {
   "cell_type": "code",
   "execution_count": 7,
   "metadata": {
    "ExecuteTime": {
     "end_time": "2020-01-20T18:18:30.666911Z",
     "start_time": "2020-01-20T18:18:30.663419Z"
    }
   },
   "outputs": [],
   "source": [
    "#export\n",
    "import argparse\n",
    "def parse_arguments():\n",
    "        parser = argparse.ArgumentParser(description='filter fastas and turn to json')\n",
    "        parser.add_argument('--file', action= 'store', metavar='file') \n",
    "        parser.add_argument('--fasta', action= 'store', metavar='fasta') \n",
    "        args = parser.parse_args()\n",
    "        return args\n"
   ]
  },
  {
   "cell_type": "code",
   "execution_count": 8,
   "metadata": {
    "ExecuteTime": {
     "end_time": "2020-01-20T18:18:34.479027Z",
     "start_time": "2020-01-20T18:18:34.460514Z"
    }
   },
   "outputs": [
    {
     "name": "stderr",
     "output_type": "stream",
     "text": [
      "usage: ipykernel_launcher.py [-h] [--file file] [--fasta fasta]\n",
      "ipykernel_launcher.py: error: unrecognized arguments: -f /Users/m/Library/Jupyter/runtime/kernel-1b870906-9f32-45b0-99a6-059b137bf150.json\n"
     ]
    },
    {
     "ename": "SystemExit",
     "evalue": "2",
     "output_type": "error",
     "traceback": [
      "An exception has occurred, use %tb to see the full traceback.\n",
      "\u001b[0;31mSystemExit\u001b[0m\u001b[0;31m:\u001b[0m 2\n"
     ]
    },
    {
     "name": "stderr",
     "output_type": "stream",
     "text": [
      "/Users/m/anaconda3/lib/python3.7/site-packages/IPython/core/interactiveshell.py:3333: UserWarning: To exit: use 'exit', 'quit', or Ctrl-D.\n",
      "  warn(\"To exit: use 'exit', 'quit', or Ctrl-D.\", stacklevel=1)\n"
     ]
    }
   ],
   "source": [
    "#export\n",
    "if __name__==\"__main__\":\n",
    "    args = parse_arguments()\n",
    "    f = args.file\n",
    "    fasta = args.fasta\n",
    "    \n",
    "    #Run all the commands\n",
    "    fbase = os.path.basename(f)\n",
    "    fout = fbase[:-4]\n",
    "    df = removeHuman(f,fout)\n",
    "    df = firstJGIQuery(df,fout)\n",
    "    df = matchFasta(df,fasta,fout)\n",
    "    toJSON(df,fout)\n",
    "    \n",
    "    "
   ]
  },
  {
   "cell_type": "code",
   "execution_count": null,
   "metadata": {},
   "outputs": [],
   "source": []
  },
  {
   "cell_type": "code",
   "execution_count": null,
   "metadata": {},
   "outputs": [],
   "source": []
  },
  {
   "cell_type": "code",
   "execution_count": 9,
   "metadata": {
    "ExecuteTime": {
     "end_time": "2020-01-20T18:18:46.451916Z",
     "start_time": "2020-01-20T18:18:46.163121Z"
    }
   },
   "outputs": [
    {
     "name": "stdout",
     "output_type": "stream",
     "text": [
      "Converted jgiJSON.ipynb to nb_jgiJSON.py\r\n"
     ]
    }
   ],
   "source": [
    "import fire\n",
    "!python3 notebook2script.py jgiJSON.ipynb"
   ]
  },
  {
   "cell_type": "code",
   "execution_count": null,
   "metadata": {},
   "outputs": [],
   "source": []
  },
  {
   "cell_type": "code",
   "execution_count": null,
   "metadata": {},
   "outputs": [],
   "source": []
  }
 ],
 "metadata": {
  "kernelspec": {
   "display_name": "Python 3",
   "language": "python",
   "name": "python3"
  },
  "language_info": {
   "codemirror_mode": {
    "name": "ipython",
    "version": 3
   },
   "file_extension": ".py",
   "mimetype": "text/x-python",
   "name": "python",
   "nbconvert_exporter": "python",
   "pygments_lexer": "ipython3",
   "version": "3.7.3"
  },
  "toc": {
   "base_numbering": 1,
   "nav_menu": {},
   "number_sections": true,
   "sideBar": true,
   "skip_h1_title": false,
   "title_cell": "Table of Contents",
   "title_sidebar": "Contents",
   "toc_cell": false,
   "toc_position": {},
   "toc_section_display": true,
   "toc_window_display": false
  }
 },
 "nbformat": 4,
 "nbformat_minor": 2
}
